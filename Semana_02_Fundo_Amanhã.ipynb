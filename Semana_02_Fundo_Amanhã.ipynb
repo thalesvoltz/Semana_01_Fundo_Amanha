{
  "nbformat": 4,
  "nbformat_minor": 0,
  "metadata": {
    "colab": {
      "provenance": [],
      "authorship_tag": "ABX9TyMdm9QVilJAlTjYY9f1RdUB",
      "include_colab_link": true
    },
    "kernelspec": {
      "name": "python3",
      "display_name": "Python 3"
    },
    "language_info": {
      "name": "python"
    }
  },
  "cells": [
    {
      "cell_type": "markdown",
      "metadata": {
        "id": "view-in-github",
        "colab_type": "text"
      },
      "source": [
        "<a href=\"https://colab.research.google.com/github/thalesvoltz/Semana_01_Fundo_Amanha/blob/main/Semana_02_Fundo_Amanh%C3%A3.ipynb\" target=\"_parent\"><img src=\"https://colab.research.google.com/assets/colab-badge.svg\" alt=\"Open In Colab\"/></a>"
      ]
    },
    {
      "cell_type": "code",
      "execution_count": 1,
      "metadata": {
        "id": "e0-v0sH0k4Ao"
      },
      "outputs": [],
      "source": [
        "import numpy as np"
      ]
    },
    {
      "cell_type": "code",
      "source": [
        "url = 'https://raw.githubusercontent.com/thalesvoltz/Semana_02_Fundo_Amanha/main/apples_ts.csv'"
      ],
      "metadata": {
        "id": "ybdfWsltriYN"
      },
      "execution_count": 6,
      "outputs": []
    },
    {
      "cell_type": "code",
      "source": [
        "dado = np.loadtxt(url,delimiter=',', usecols=np.arange(1,88,1))"
      ],
      "metadata": {
        "id": "5I-pD4l7nfyp"
      },
      "execution_count": 7,
      "outputs": []
    },
    {
      "cell_type": "code",
      "source": [
        "dado.ndim"
      ],
      "metadata": {
        "id": "Ko7bnrV62V9Z"
      },
      "execution_count": null,
      "outputs": []
    },
    {
      "cell_type": "code",
      "source": [
        "dado.size"
      ],
      "metadata": {
        "id": "r1_KAKdj2d1Z"
      },
      "execution_count": null,
      "outputs": []
    },
    {
      "cell_type": "code",
      "source": [
        "dado.shape"
      ],
      "metadata": {
        "id": "spJQrd7a2jSh"
      },
      "execution_count": null,
      "outputs": []
    },
    {
      "cell_type": "code",
      "source": [
        "dado.T"
      ],
      "metadata": {
        "colab": {
          "base_uri": "https://localhost:8080/"
        },
        "id": "IpzbBcIz5Opy",
        "outputId": "b1e69c63-0523-4912-949e-b0d900fd78c7"
      },
      "execution_count": 21,
      "outputs": [
        {
          "output_type": "execute_result",
          "data": {
            "text/plain": [
              "array([[  1.2013,  79.72  ,  42.67  ,  62.55  ,  48.26  ,  71.25  ],\n",
              "       [  2.2013,  81.08  ,  44.37  ,  62.73  ,  51.01  ,  71.35  ],\n",
              "       [  3.2013,  79.68  ,  44.73  ,  63.43  ,  50.91  ,  70.9   ],\n",
              "       [  4.2013,  79.8   ,  46.75  ,  63.83  ,  53.94  ,  71.92  ],\n",
              "       [  5.2013,  80.63  ,      nan,  66.06  ,  61.27  ,  72.91  ],\n",
              "       [  6.2013,  80.8   ,  51.59  ,  69.22  ,  65.44  ,  74.39  ],\n",
              "       [  7.2013,  80.28  ,  57.8   ,  72.07  ,  56.51  ,  73.1   ],\n",
              "       [  8.2013,  78.99  ,  62.14  ,  69.31  ,  53.    ,  70.24  ],\n",
              "       [  9.2013,  76.77  ,  56.76  ,  65.18  ,  43.87  ,  69.12  ],\n",
              "       [ 10.2013,  76.09  ,  50.85  ,  62.13  ,  42.12  ,  68.98  ],\n",
              "       [ 11.2013,  76.36  ,  46.43  ,  64.17  ,  43.98  ,  68.58  ],\n",
              "       [ 12.2013,  77.16  ,  46.73  ,  65.5   ,  44.66  ,  69.5   ],\n",
              "       [  1.2014,  77.5   ,  45.85  ,  66.85  ,  47.73  ,  70.14  ],\n",
              "       [  2.2014,  79.03  ,  49.25  ,  68.38  ,  52.31  ,  70.58  ],\n",
              "       [  3.2014,  80.28  ,  48.14  ,  68.77  ,  56.8   ,  70.78  ],\n",
              "       [  4.2014,  80.05  ,  49.18  ,  69.32  ,  51.15  ,  72.78  ],\n",
              "       [  5.2014,  78.11  ,  49.49  ,  69.77  ,  54.63  ,  72.84  ],\n",
              "       [  6.2014,  76.9   ,  49.83  ,  70.17  ,  55.8   ,  74.74  ],\n",
              "       [  7.2014,  77.68  ,  49.14  ,  70.76  ,  57.31  ,  76.43  ],\n",
              "       [  8.2014,  76.05  ,  63.21  ,  75.16  ,  53.81  ,  81.2   ],\n",
              "       [  9.2014,  75.53  ,  61.2   ,  74.86  ,  55.5   ,  82.04  ],\n",
              "       [ 10.2014,  73.39  ,  60.34  ,  71.47  ,  52.95  ,  79.67  ],\n",
              "       [ 11.2014,  78.36  ,  62.2   ,  76.08  ,  53.29  ,  81.25  ],\n",
              "       [ 12.2014,  89.16  ,  74.2   ,  82.11  ,  54.86  ,  85.88  ],\n",
              "       [  1.2015, 105.43  ,  75.32  ,  94.63  ,  71.72  ,  91.35  ],\n",
              "       [  2.2015, 104.82  ,  75.92  ,  98.54  ,  74.36  , 101.32  ],\n",
              "       [  3.2015, 101.15  ,  72.89  ,  97.84  ,  78.25  , 102.45  ],\n",
              "       [  4.2015,  98.63  ,  74.85  ,  94.54  ,  70.63  ,  98.18  ],\n",
              "       [  5.2015,  99.96  ,  92.19  ,  97.88  ,  77.06  , 105.1   ],\n",
              "       [  6.2015,  97.29  ,  99.7   ,  97.73  ,  81.52  , 104.85  ],\n",
              "       [  7.2015,  98.64  , 102.78  , 100.89  ,  84.12  , 111.48  ],\n",
              "       [  8.2015, 104.26  ,  92.67  , 104.88  ,  83.33  , 118.51  ],\n",
              "       [  9.2015, 102.63  ,  90.63  , 104.39  ,  66.98  , 118.92  ],\n",
              "       [ 10.2015,  98.64  ,  83.31  , 101.9   ,  62.04  , 109.87  ],\n",
              "       [ 11.2015,  97.17  ,  75.5   ,  98.99  ,  59.79  , 105.22  ],\n",
              "       [ 12.2015,  98.09  ,  74.6   ,  99.42  ,  66.06  , 105.45  ],\n",
              "       [  1.2016, 103.07  ,  76.94  , 106.37  ,  71.99  , 115.61  ],\n",
              "       [  2.2016, 110.26  ,  83.04  , 113.89  ,  76.79  , 116.61  ],\n",
              "       [  3.2016, 110.84  ,  80.74  , 114.78  ,  80.98  , 120.39  ],\n",
              "       [  4.2016, 112.28  ,  80.29  , 115.6   ,  89.18  , 119.2   ],\n",
              "       [  5.2016, 111.1   ,  82.82  , 115.89  ,  92.71  , 119.92  ],\n",
              "       [  6.2016, 110.06  ,  86.29  , 117.66  ,  94.85  , 120.57  ],\n",
              "       [  7.2016, 113.7   ,  87.41  , 118.27  ,  99.18  , 123.37  ],\n",
              "       [  8.2016, 112.88  ,  85.1   , 114.19  ,  86.33  , 121.39  ],\n",
              "       [  9.2016, 102.08  ,  78.08  , 101.81  ,  71.94  , 118.16  ],\n",
              "       [ 10.2016,  95.54  ,  76.06  ,  91.62  ,  67.18  , 108.84  ],\n",
              "       [ 11.2016,  91.33  ,  69.23  ,  90.15  ,  62.98  , 100.78  ],\n",
              "       [ 12.2016,  89.99  ,  69.04  ,  90.55  ,  69.45  ,  99.92  ],\n",
              "       [  1.2017,  91.44  ,  64.48  ,  92.3   ,  67.56  , 100.65  ],\n",
              "       [  2.2017,  93.51  ,  65.73  ,  91.75  ,  67.92  ,  98.92  ],\n",
              "       [  3.2017,  93.6   ,  67.2   ,  92.    ,  68.4   , 100.31  ],\n",
              "       [  4.2017,  93.78  ,  70.25  ,  92.57  ,  67.97  ,  96.41  ],\n",
              "       [  5.2017,  98.91  ,  82.59  , 100.28  ,  76.33  , 101.24  ],\n",
              "       [  6.2017, 121.76  ,  92.12  , 114.33  ,  95.79  , 118.7   ],\n",
              "       [  7.2017, 129.6   , 100.82  , 122.17  , 112.36  , 133.29  ],\n",
              "       [  8.2017, 127.9   ,  95.23  , 117.83  ,  82.03  , 130.31  ],\n",
              "       [  9.2017, 114.55  ,  89.51  , 112.49  ,  73.83  , 122.4   ],\n",
              "       [ 10.2017, 101.88  ,  82.84  ,  93.7   ,  66.12  , 104.98  ],\n",
              "       [ 11.2017,  99.09  ,  82.3   ,  97.17  ,  63.24  , 107.54  ],\n",
              "       [ 12.2017, 103.35  ,  83.76  ,  95.64  ,  63.98  , 110.74  ],\n",
              "       [  1.2018, 106.58  ,  84.72  , 102.21  ,  69.1   , 110.51  ],\n",
              "       [  2.2018, 108.    ,  83.91  , 107.58  ,  70.04  , 111.46  ],\n",
              "       [  3.2018, 114.95  ,  99.14  , 110.48  ,  80.03  , 113.42  ],\n",
              "       [  4.2018, 121.17  , 101.6   , 117.73  ,  87.92  , 118.15  ],\n",
              "       [  5.2018, 122.48  , 113.03  , 122.07  ,  97.07  , 114.    ],\n",
              "       [  6.2018, 127.58  , 119.54  , 128.58  , 106.52  , 124.91  ],\n",
              "       [  7.2018, 131.89  , 118.09  , 131.12  , 108.93  , 126.06  ],\n",
              "       [  8.2018, 129.36  , 107.32  , 127.08  ,  95.17  , 123.3   ],\n",
              "       [  9.2018, 104.26  ,  82.6   , 110.99  ,  74.31  , 111.61  ],\n",
              "       [ 10.2018,  93.45  ,  77.4   ,  97.43  ,  62.63  ,  98.82  ],\n",
              "       [ 11.2018,  92.93  ,  71.77  ,  92.05  ,  69.92  ,  97.47  ],\n",
              "       [ 12.2018,  96.15  ,  71.25  ,  93.21  ,  70.58  , 103.01  ],\n",
              "       [  1.2019,  99.1   ,  71.35  ,  98.58  ,  74.63  , 109.36  ],\n",
              "       [  2.2019, 103.    ,  73.62  , 100.23  ,  78.69  , 104.79  ],\n",
              "       [  3.2019, 103.31  ,  76.2   , 102.09  ,  81.82  , 105.09  ],\n",
              "       [  4.2019, 103.01  ,  74.15  , 101.73  ,  82.36  , 103.16  ],\n",
              "       [  5.2019, 107.37  ,  75.67  , 107.28  ,  89.44  , 106.52  ],\n",
              "       [  6.2019, 116.91  ,  79.2   , 115.35  , 102.01  , 121.68  ],\n",
              "       [  7.2019, 125.29  ,  80.85  , 123.03  , 116.12  , 125.32  ],\n",
              "       [  8.2019, 123.94  ,  85.33  , 123.08  ,  92.06  , 123.41  ],\n",
              "       [  9.2019, 113.03  ,  75.02  , 109.71  ,  82.7   , 108.48  ],\n",
              "       [ 10.2019, 102.19  ,  77.95  ,  97.22  ,  66.62  ,  98.73  ],\n",
              "       [ 11.2019,  97.83  ,  78.98  ,  95.75  ,  68.11  ,  96.25  ],\n",
              "       [ 12.2019, 101.07  ,  76.55  ,  97.09  ,  73.48  , 100.12  ],\n",
              "       [  1.202 , 103.44  ,  74.89  ,  98.18  ,  82.04  , 101.29  ],\n",
              "       [  2.202 , 108.23  ,  70.    , 103.1   ,  81.19  , 102.81  ],\n",
              "       [  3.202 , 110.28  ,  81.53  , 110.6   ,  95.05  , 108.53  ]])"
            ]
          },
          "metadata": {},
          "execution_count": 21
        }
      ]
    },
    {
      "cell_type": "code",
      "source": [
        "dado_transposto = dado.T"
      ],
      "metadata": {
        "id": "X1fmQPOq2nq5"
      },
      "execution_count": 12,
      "outputs": []
    },
    {
      "cell_type": "code",
      "source": [
        "datas = dado_transposto[:,0]"
      ],
      "metadata": {
        "id": "bxjgGchp2uXJ"
      },
      "execution_count": 13,
      "outputs": []
    },
    {
      "cell_type": "code",
      "source": [
        "precos = dado_transposto[:,1:6]"
      ],
      "metadata": {
        "id": "frDNnf1I4yxo"
      },
      "execution_count": 14,
      "outputs": []
    },
    {
      "cell_type": "code",
      "source": [
        "import matplotlib.pyplot as plt"
      ],
      "metadata": {
        "id": "ypVV70mH5gKI"
      },
      "execution_count": 18,
      "outputs": []
    },
    {
      "cell_type": "code",
      "source": [
        "datas = np.arange(1,88,1)"
      ],
      "metadata": {
        "id": "wIYpuBfs9yUt"
      },
      "execution_count": 22,
      "outputs": []
    },
    {
      "cell_type": "code",
      "source": [
        "plt.plot(datas, precos[:,0])"
      ],
      "metadata": {
        "id": "ZyKpfQBY5sLn"
      },
      "execution_count": null,
      "outputs": []
    },
    {
      "cell_type": "code",
      "source": [
        "Moscow = precos[:,0]\n",
        "Kaliningrad = precos[:,1]\n",
        "Petersburg = precos[:,2]\n",
        "Krasnodar = precos[:,3]\n",
        "Ekateringburg = precos[:,4]"
      ],
      "metadata": {
        "id": "EuM7MrSH-b32"
      },
      "execution_count": 25,
      "outputs": []
    },
    {
      "cell_type": "code",
      "source": [
        "Moscow.shape"
      ],
      "metadata": {
        "colab": {
          "base_uri": "https://localhost:8080/"
        },
        "id": "i0-lT3IEAjlT",
        "outputId": "474fe322-c0e1-4289-8838-853f645a299e"
      },
      "execution_count": 26,
      "outputs": [
        {
          "output_type": "execute_result",
          "data": {
            "text/plain": [
              "(87,)"
            ]
          },
          "metadata": {},
          "execution_count": 26
        }
      ]
    },
    {
      "cell_type": "code",
      "source": [
        "Moscow_ano1 = Moscow[0:12]\n",
        "Moscow_ano2 = Moscow[12:24]\n",
        "Moscow_ano3 = Moscow[24:36]\n",
        "Moscow_ano4 = Moscow[36:48]"
      ],
      "metadata": {
        "id": "nU6xNO4HBmCa"
      },
      "execution_count": 27,
      "outputs": []
    },
    {
      "cell_type": "code",
      "source": [
        "plt.plot(np.arange(1,13,1),Moscow_ano1)\n",
        "plt.plot(np.arange(1,13,1),Moscow_ano2)\n",
        "plt.plot(np.arange(1,13,1),Moscow_ano3)\n",
        "plt.plot(np.arange(1,13,1),Moscow_ano4)\n",
        "plt.legend(['ano1','ano2','ano3','ano4'])"
      ],
      "metadata": {
        "id": "GkDeT0yNCAwR"
      },
      "execution_count": null,
      "outputs": []
    },
    {
      "cell_type": "code",
      "source": [
        "np.array_equal(Moscow_ano3, Moscow_ano4)"
      ],
      "metadata": {
        "id": "oYie5Zz0C4FP"
      },
      "execution_count": null,
      "outputs": []
    },
    {
      "cell_type": "code",
      "source": [
        "np.allclose(Moscow_ano3,Moscow_ano4, 0.01)"
      ],
      "metadata": {
        "id": "HDqXAIsOLnjO"
      },
      "execution_count": null,
      "outputs": []
    },
    {
      "cell_type": "code",
      "source": [
        "plt.plot(datas, Kaliningrad)"
      ],
      "metadata": {
        "colab": {
          "base_uri": "https://localhost:8080/",
          "height": 447
        },
        "id": "of3_eTIBTEqp",
        "outputId": "f9710795-d55f-482d-d2ca-cdd59a4cf8f0"
      },
      "execution_count": 43,
      "outputs": [
        {
          "output_type": "execute_result",
          "data": {
            "text/plain": [
              "[<matplotlib.lines.Line2D at 0x7d911441cf10>]"
            ]
          },
          "metadata": {},
          "execution_count": 43
        },
        {
          "output_type": "display_data",
          "data": {
            "text/plain": [
              "<Figure size 640x480 with 1 Axes>"
            ],
            "image/png": "[encoded data removed]"
          },
          "metadata": {}
        }
      ]
    },
    {
      "cell_type": "code",
      "source": [
        "Kaliningrad"
      ],
      "metadata": {
        "id": "6leOGRjKTX68"
      },
      "execution_count": null,
      "outputs": []
    },
    {
      "cell_type": "code",
      "source": [
        "sum(np.isnan(Kaliningrad))"
      ],
      "metadata": {
        "colab": {
          "base_uri": "https://localhost:8080/"
        },
        "id": "N-ksSNGjTkR1",
        "outputId": "41e475e1-c7a1-4e36-fcdc-519ab3f4eb28"
      },
      "execution_count": 37,
      "outputs": [
        {
          "output_type": "execute_result",
          "data": {
            "text/plain": [
              "1"
            ]
          },
          "metadata": {},
          "execution_count": 37
        }
      ]
    },
    {
      "cell_type": "code",
      "source": [
        "(Kaliningrad[3]+Kaliningrad[5])/2"
      ],
      "metadata": {
        "colab": {
          "base_uri": "https://localhost:8080/"
        },
        "id": "JAQ-QLSbXXaD",
        "outputId": "54a432b3-028f-4381-ad4d-65c0a19e2cd9"
      },
      "execution_count": 38,
      "outputs": [
        {
          "output_type": "execute_result",
          "data": {
            "text/plain": [
              "49.17"
            ]
          },
          "metadata": {},
          "execution_count": 38
        }
      ]
    },
    {
      "cell_type": "code",
      "source": [
        "Kaliningrad[4] = np.mean([Kaliningrad[3],Kaliningrad[5]])"
      ],
      "metadata": {
        "id": "Nn42QaMWXjVR"
      },
      "execution_count": 42,
      "outputs": []
    },
    {
      "cell_type": "code",
      "source": [
        "np.mean(Moscow)"
      ],
      "metadata": {
        "colab": {
          "base_uri": "https://localhost:8080/"
        },
        "id": "W1Okg3haYKoJ",
        "outputId": "f75bd36a-2548-45c6-dd8f-86d23963c4b7"
      },
      "execution_count": 44,
      "outputs": [
        {
          "output_type": "execute_result",
          "data": {
            "text/plain": [
              "98.79781609195402"
            ]
          },
          "metadata": {},
          "execution_count": 44
        }
      ]
    },
    {
      "cell_type": "code",
      "source": [
        "np.mean(Kaliningrad)"
      ],
      "metadata": {
        "colab": {
          "base_uri": "https://localhost:8080/"
        },
        "id": "jPor1PuXYOMJ",
        "outputId": "1f8278ad-7481-434f-bed9-10d0353e12e5"
      },
      "execution_count": 45,
      "outputs": [
        {
          "output_type": "execute_result",
          "data": {
            "text/plain": [
              "74.5506896551724"
            ]
          },
          "metadata": {},
          "execution_count": 45
        }
      ]
    }
  ]
}